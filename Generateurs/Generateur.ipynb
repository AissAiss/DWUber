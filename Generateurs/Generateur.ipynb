{
 "cells": [
  {
   "cell_type": "markdown",
   "id": "1ab396b9",
   "metadata": {},
   "source": [
    "# Import"
   ]
  },
  {
   "cell_type": "code",
   "execution_count": 82,
   "id": "dcaeeb6e",
   "metadata": {},
   "outputs": [],
   "source": [
    "import pandas as pd\n",
    "import random"
   ]
  },
  {
   "cell_type": "markdown",
   "id": "8c76d3b7",
   "metadata": {},
   "source": [
    "# Données aléatoire"
   ]
  },
  {
   "cell_type": "markdown",
   "id": "30a3db97",
   "metadata": {},
   "source": [
    "Mettre en place les données pour choisir des noms aléatoires"
   ]
  },
  {
   "cell_type": "code",
   "execution_count": 83,
   "id": "9fe8eac0",
   "metadata": {},
   "outputs": [],
   "source": [
    "df_prenom = pd.read_csv('prenoms.csv', sep=\";\", encoding='latin-1')\n",
    "df_nom = pd.read_csv('noms.csv', sep=\",\", encoding='latin-1')\n",
    "\n",
    "p = df_prenom['prenom']\n",
    "n = df_nom['patronyme']"
   ]
  },
  {
   "cell_type": "markdown",
   "id": "49d20e1b",
   "metadata": {},
   "source": [
    "# Générateur utilisateur"
   ]
  },
  {
   "cell_type": "markdown",
   "id": "47e4d41c",
   "metadata": {},
   "source": [
    "Choisir le nom de fichier et le nombre d'utilisateur"
   ]
  },
  {
   "cell_type": "code",
   "execution_count": 84,
   "id": "a4973b7b",
   "metadata": {},
   "outputs": [],
   "source": [
    "NOM_DE_LA_TABLE = \"utilisateur\"\n",
    "NOMBRE_DE_USER = 100\n",
    "\n",
    "file = open(NOM_DE_LA_TABLE + \".txt\", \"x\") #\"x\" si le fichier existe pas"
   ]
  },
  {
   "cell_type": "markdown",
   "id": "ea11efd9",
   "metadata": {},
   "source": [
    "Remplir puis fermer le fichier "
   ]
  },
  {
   "cell_type": "code",
   "execution_count": 85,
   "id": "c77b7a48",
   "metadata": {},
   "outputs": [],
   "source": [
    "for i in range(0, NOMBRE_DE_USER): \n",
    "    file.write(\"INSERT INTO \" + NOM_DE_LA_TABLE + \" VALUES (\" + str(i)+ \",'\" + random.choice(p) + \"', '\" + random.choice(n) + \"', \" + str(random.randrange(15, 75)) + \");\\n\")\n",
    "    \n",
    "file.close()"
   ]
  },
  {
   "cell_type": "markdown",
   "id": "11e46c5d",
   "metadata": {},
   "source": [
    "# Générateur chauffeur"
   ]
  },
  {
   "cell_type": "markdown",
   "id": "5353e565",
   "metadata": {},
   "source": [
    "Choisir le nom de fichier et le nombre de chauffeur"
   ]
  },
  {
   "cell_type": "code",
   "execution_count": 86,
   "id": "fea02543",
   "metadata": {},
   "outputs": [],
   "source": [
    "NOM_DE_LA_TABLE = \"chauffeur\"\n",
    "NOMBRE_DE_USER = 100\n",
    "\n",
    "file = open(NOM_DE_LA_TABLE + \".txt\", \"w\") #\"x\" si le fichier existe pas"
   ]
  },
  {
   "cell_type": "markdown",
   "id": "39b53c7d",
   "metadata": {},
   "source": [
    "Remplir puis fermer le fichier "
   ]
  },
  {
   "cell_type": "code",
   "execution_count": 87,
   "id": "4fbebd3b",
   "metadata": {},
   "outputs": [],
   "source": [
    "for i in range(0, NOMBRE_DE_USER): \n",
    "    file.write(\"INSERT INTO \" + NOM_DE_LA_TABLE + \" VALUES (\" + str(i)+ \",'\" + random.choice(p) + \"', '\" + random.choice(n) + \"');\\n\")\n",
    "    \n",
    "file.close()"
   ]
  },
  {
   "cell_type": "markdown",
   "id": "776464d5",
   "metadata": {},
   "source": [
    "# Générateur timeOfDay\n"
   ]
  },
  {
   "cell_type": "markdown",
   "id": "63bde0fe",
   "metadata": {},
   "source": [
    "Choisir le nom de fichier et le nombre de chauffeur"
   ]
  },
  {
   "cell_type": "code",
   "execution_count": 96,
   "id": "65409985",
   "metadata": {},
   "outputs": [],
   "source": [
    "NOM_DE_LA_TABLE = \"timeOfDay\"\n",
    "\n",
    "file = open(NOM_DE_LA_TABLE + \".txt\", \"w\") #\"x\" si le fichier existe pas"
   ]
  },
  {
   "cell_type": "markdown",
   "id": "88fc0d3f",
   "metadata": {},
   "source": [
    "Remplir puis fermer le fichier "
   ]
  },
  {
   "cell_type": "code",
   "execution_count": 97,
   "id": "80ff75e3",
   "metadata": {},
   "outputs": [],
   "source": [
    "i = 0\n",
    "\n",
    "for h in range(0, 24): \n",
    "    for m in range(0, 60): \n",
    "        file.write(\"INSERT INTO \" + NOM_DE_LA_TABLE + \" VALUES (\" + str(i) + \", \" + str(h) + \", \" + str(m) + \");\\n\")\n",
    "        i+=1\n",
    "        \n",
    "file.close()"
   ]
  },
  {
   "cell_type": "code",
   "execution_count": null,
   "id": "a9c2e62d",
   "metadata": {},
   "outputs": [],
   "source": [
    "# prints a random value from the list\n",
    "#list1 = [1, 2, 3, 4, 5, 6]\n",
    "#print(random.choice(list1))\n",
    "\n",
    "#prenom = prenom.drop(columns=['genre', 'langage', 'frequence'])\n",
    "#nom = nom.drop(columns=['count'])\n",
    "\n",
    "#print(prenom.shape) \n",
    "#print(prenom.columns)\n",
    "\n",
    "#print(nom.shape) \n",
    "#print(nom.columns)\n",
    "#file.write(\"Un truc bidon dans le fichier\")\n",
    "\n",
    "#print(type(p))\n",
    "#print(type(n))\n",
    "\n",
    "\n",
    "#print(df_prenom.shape) \n",
    "#print(df_prenom.columns)\n",
    "\n",
    "#print(df_nom.shape) \n",
    "#print(df_nom.columns)\n",
    "\n",
    "#df.loc[df.index[3], 'A']\n",
    "\n",
    "#print(prenom.loc[prenom.index[6888], 'prenom']) \n",
    "#+ str(random.randrange(0, 30)) + \"/\" + str(random.randrange(0, 12)) + \"/\" + str(random.randrange(1970, 2009)))\n"
   ]
  }
 ],
 "metadata": {
  "kernelspec": {
   "display_name": "Python 3.9 (tensorflow)",
   "language": "python",
   "name": "tensorflow"
  },
  "language_info": {
   "codemirror_mode": {
    "name": "ipython",
    "version": 3
   },
   "file_extension": ".py",
   "mimetype": "text/x-python",
   "name": "python",
   "nbconvert_exporter": "python",
   "pygments_lexer": "ipython3",
   "version": "3.9.7"
  }
 },
 "nbformat": 4,
 "nbformat_minor": 5
}
